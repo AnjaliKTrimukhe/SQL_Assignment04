{
 "cells": [
  {
   "cell_type": "markdown",
   "id": "53cb4c97",
   "metadata": {},
   "source": [
    "Q-1. Write an SQL query to print the FIRST_NAME from Worker table after replacing ‘a’\n",
    "with ‘A’.\n",
    "Ans:\n",
    "SELECT REPLACE(FIRST_NAME,'a','A') AS \"REPLACE NAME\" FROM Worker;"
   ]
  },
  {
   "cell_type": "markdown",
   "id": "53c4c5df",
   "metadata": {},
   "source": [
    "Q-2. Write an SQL query to print all Worker details from the Worker table order by\n",
    "FIRST_NAME Ascending and DEPARTMENT Descending.\n",
    "Ans:\n",
    "select * from Worker w\n",
    "order by w.FIRST_NAME Asc , w.DEPARTMENT Desc;"
   ]
  },
  {
   "cell_type": "markdown",
   "id": "7442c5a1",
   "metadata": {},
   "source": [
    "Q-3. Write an SQL query to fetch the names of workers who earn the highest salary.\n",
    "Ans:\n",
    "SELECT FIRST_NAME, SALARY\n",
    "FROM Worker\n",
    "WHERE SALARY = (SELECT max(SALARY) \n",
    "                FROM Worker);"
   ]
  }
 ],
 "metadata": {
  "kernelspec": {
   "display_name": "Python 3 (ipykernel)",
   "language": "python",
   "name": "python3"
  },
  "language_info": {
   "codemirror_mode": {
    "name": "ipython",
    "version": 3
   },
   "file_extension": ".py",
   "mimetype": "text/x-python",
   "name": "python",
   "nbconvert_exporter": "python",
   "pygments_lexer": "ipython3",
   "version": "3.9.7"
  }
 },
 "nbformat": 4,
 "nbformat_minor": 5
}
